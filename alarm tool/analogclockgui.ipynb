{
 "cells": [
  {
   "cell_type": "code",
   "execution_count": 12,
   "metadata": {},
   "outputs": [],
   "source": [
    "'''\n",
    "\n",
    "    # use Tkinter to show a digital clock\n",
    "    # tested with Python24    vegaseat    10sep2006\n",
    "    from tkinter import *\n",
    "    import time\n",
    "    root = Tk()\n",
    "    time1 = ''\n",
    "    clock = Label(root, font=('times', 20, 'bold'), bg='green')\n",
    "    clock.pack(fill=BOTH, expand=1)\n",
    "    def tick():\n",
    "        global time1\n",
    "        # get the current local time from the PC\n",
    "        time2 = time.strftime('%H:%M:%S')\n",
    "        # if time string has changed, update it\n",
    "        if time2 != time1:\n",
    "            time1 = time2\n",
    "            clock.config(text=time2)\n",
    "        # calls itself every 200 milliseconds\n",
    "        # to update the time display as needed\n",
    "        # could use >200 ms, but display gets jerky\n",
    "        clock.after(200, tick)\n",
    "    tick()\n",
    "    root.mainloop(  )\n",
    "\n",
    "'''"
   ]
  },
  {
   "cell_type": "code",
   "execution_count": 13,
   "metadata": {},
   "outputs": [],
   "source": [
    "    import turtle\n",
    "    import time\n",
    "    wndw = turtle.Screen()\n",
    "    wndw.bgcolor(\"black\")\n",
    "    wndw.setup(width=600, height=600)\n",
    "    wndw.title(\"Analogue Clock\")\n",
    "    wndw.tracer(0)"
   ]
  },
  {
   "cell_type": "code",
   "execution_count": null,
   "metadata": {},
   "outputs": [],
   "source": []
  }
 ],
 "metadata": {
  "kernelspec": {
   "display_name": "Python 3",
   "language": "python",
   "name": "python3"
  },
  "language_info": {
   "codemirror_mode": {
    "name": "ipython",
    "version": 3
   },
   "file_extension": ".py",
   "mimetype": "text/x-python",
   "name": "python",
   "nbconvert_exporter": "python",
   "pygments_lexer": "ipython3",
   "version": "3.7.6"
  }
 },
 "nbformat": 4,
 "nbformat_minor": 4
}
