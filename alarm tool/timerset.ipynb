{
 "cells": [
  {
   "cell_type": "code",
   "execution_count": null,
   "metadata": {},
   "outputs": [],
   "source": [
    "import tkinter\n",
    "import winsound\n",
    "import time\n",
    "import math\n",
    "\n",
    "\n",
    "\n",
    "def countdown(count): \n",
    "    \n",
    "    seconds=math.floor(count%60)\n",
    "    minutes=math.floor((count/60)%60)\n",
    "    hours=math.floor((count/3600))\n",
    "    label['text'] =\"Hours: \"+ str(hours)+ \" Minutes:  \" +str(minutes)+ \" Seconds: \" +str(seconds)\n",
    "\n",
    "    if count >= 0:\n",
    "        top.after(1000, countdown,count-1)\n",
    "    else:\n",
    "        for x in range(3):\n",
    "         winsound.Beep(1000,1000)\n",
    "        label['text']=\"Time is up!\"\n",
    "       \n",
    "        \n",
    "def updateButton():\n",
    "    hour,minute,sec=hoursE.get(),minuteE.get(),secondE.get()\n",
    "    if hour.isdigit() and minute.isdigit() and sec.isdigit():\n",
    "        time=int(hour)*3600+int(minute)*60+int(sec)\n",
    "        countdown(time)\n",
    "        \n",
    "top = tkinter.Tk()\n",
    "top.geometry(\"250x150\")\n",
    "hoursT=tkinter.Label(top, text=\"Hours:\")\n",
    "hoursE=tkinter.Entry(top)\n",
    "minuteT=tkinter.Label(top, text=\"Minutes:\")\n",
    "minuteE=tkinter.Entry(top)\n",
    "secondT=tkinter.Label(top, text=\"Seconds:\")\n",
    "secondE=tkinter.Entry(top)\n",
    "hoursT.grid(row=1,column=1)\n",
    "hoursE.grid(row=1,column=2)\n",
    "minuteT.grid(row=2,column=1)\n",
    "minuteE.grid(row=2,column=2)\n",
    "secondT.grid(row=3,column=1)\n",
    "secondE.grid(row=3,column=2)\n",
    "label = tkinter.Label(top)\n",
    "label.grid(row=5,column=2)\n",
    "\n",
    "button=tkinter.Button(top,text=\"Start Timer\",command=updateButton)\n",
    "button.grid(row=4,column=2)\n",
    "\n",
    "top.mainloop()"
   ]
  },
  {
   "cell_type": "code",
   "execution_count": null,
   "metadata": {},
   "outputs": [],
   "source": []
  },
  {
   "cell_type": "code",
   "execution_count": null,
   "metadata": {},
   "outputs": [],
   "source": []
  }
 ],
 "metadata": {
  "kernelspec": {
   "display_name": "Python 3",
   "language": "python",
   "name": "python3"
  },
  "language_info": {
   "codemirror_mode": {
    "name": "ipython",
    "version": 3
   },
   "file_extension": ".py",
   "mimetype": "text/x-python",
   "name": "python",
   "nbconvert_exporter": "python",
   "pygments_lexer": "ipython3",
   "version": "3.7.6"
  }
 },
 "nbformat": 4,
 "nbformat_minor": 4
}
